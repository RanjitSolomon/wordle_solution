{
 "cells": [
  {
   "cell_type": "code",
   "execution_count": 1,
   "id": "1ea7a079",
   "metadata": {},
   "outputs": [
    {
     "name": "stdout",
     "output_type": "stream",
     "text": [
      "1\n",
      "['epoxy']\n"
     ]
    }
   ],
   "source": [
    "# words.txt\n",
    "# words_478k.txt\n",
    "with open('words.txt') as file:\n",
    "    words = file.readlines()\n",
    "    words = [word.rstrip() for word in words]\n",
    "len(words)\n",
    "\n",
    "results = []\n",
    "for w in words:\n",
    "    if len(w) == 5:\n",
    "        results.append(w)\n",
    "        \n",
    "results2 = []\n",
    "in_words = ['o','e' ]  # Enter the first word and get the green or yello letters\n",
    "not_in_words = ['a','r', 's','c','h']   # add all black letters here\n",
    "for x in results:\n",
    "    if all(w in x for w in in_words):\n",
    "        results2.append(x) if x not in results2 else results2\n",
    "\n",
    "results3 = []\n",
    "for x in results2:\n",
    "    # 0 to 5 enter the letter which are in correct position with \"==\"  and those are not in correct locaton with \"!=\"\n",
    "    if x[0] == 'e' and x[1] == 'p' and  x[2] == 'o':\n",
    "        if not any(w in x for w in not_in_words):\n",
    "            results3.append(x) if x not in results3 else results3\n",
    "        \n",
    "\n",
    "print(len(results3))\n",
    "print(results3)"
   ]
  },
  {
   "cell_type": "code",
   "execution_count": null,
   "id": "ffd487cf",
   "metadata": {},
   "outputs": [],
   "source": []
  }
 ],
 "metadata": {
  "kernelspec": {
   "display_name": "Python 3 (ipykernel)",
   "language": "python",
   "name": "python3"
  },
  "language_info": {
   "codemirror_mode": {
    "name": "ipython",
    "version": 3
   },
   "file_extension": ".py",
   "mimetype": "text/x-python",
   "name": "python",
   "nbconvert_exporter": "python",
   "pygments_lexer": "ipython3",
   "version": "3.9.7"
  }
 },
 "nbformat": 4,
 "nbformat_minor": 5
}
