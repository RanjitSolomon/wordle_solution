{
 "cells": [
  {
   "cell_type": "code",
   "execution_count": 1,
   "id": "4793bc5a",
   "metadata": {},
   "outputs": [
    {
     "name": "stdout",
     "output_type": "stream",
     "text": [
      "{'a': 1691, 'b': 486, 'c': 678, 'd': 853, 'e': 2010, 'f': 377, 'g': 477, 'h': 570, 'i': 1155, 'j': 66, 'k': 405, 'l': 1116, 'm': 571, 'n': 952, 'o': 1196, 'p': 651, 'q': 40, 'r': 1370, 's': 2001, 't': 1094, 'u': 732, 'v': 237, 'w': 368, 'x': 87, 'y': 574, 'z': 65}\n",
      "{'q': 40, 'z': 65, 'j': 66, 'x': 87, 'v': 237, 'w': 368, 'f': 377, 'k': 405, 'g': 477, 'b': 486, 'h': 570, 'm': 571, 'y': 574, 'p': 651, 'c': 678, 'u': 732, 'd': 853, 'n': 952, 't': 1094, 'l': 1116, 'i': 1155, 'o': 1196, 'r': 1370, 'a': 1691, 's': 2001, 'e': 2010}\n",
      "arose\n"
     ]
    }
   ],
   "source": [
    "# words.txt\n",
    "# words_478k.txt\n",
    "with open('words.txt') as file:\n",
    "    words = file.readlines()\n",
    "    words = [word.rstrip() for word in words]\n",
    "len(words)\n",
    "\n",
    "results = []\n",
    "for w in words:\n",
    "    if len(w) == 5:\n",
    "        results.append(w)\n",
    "\n",
    "wordCount = {}        \n",
    "characters = ['a','b','c','d','e','f','g','h','i','j','k','l','m','n','o','p','q','r','s','t','u','v','w','x','y','z']\n",
    "for c in characters:\n",
    "    count=0\n",
    "    for r in results:\n",
    "        if c in r:\n",
    "            count = count + 1\n",
    "    wordCount[c] = count\n",
    "            \n",
    "        \n",
    "print(wordCount)\n",
    "\n",
    "sorted_wordCount = {k: v for k, v in sorted(wordCount.items(), key=lambda item: item[1])}\n",
    "print(sorted_wordCount)\n",
    "\n",
    "first_words = ['e','s','a','r','o']\n",
    "\n",
    "for x in results:\n",
    "    if all(w in x for w in first_words):\n",
    "        print(x)"
   ]
  },
  {
   "cell_type": "code",
   "execution_count": null,
   "id": "ef4f841a",
   "metadata": {},
   "outputs": [],
   "source": []
  }
 ],
 "metadata": {
  "kernelspec": {
   "display_name": "Python 3 (ipykernel)",
   "language": "python",
   "name": "python3"
  },
  "language_info": {
   "codemirror_mode": {
    "name": "ipython",
    "version": 3
   },
   "file_extension": ".py",
   "mimetype": "text/x-python",
   "name": "python",
   "nbconvert_exporter": "python",
   "pygments_lexer": "ipython3",
   "version": "3.9.7"
  }
 },
 "nbformat": 4,
 "nbformat_minor": 5
}
